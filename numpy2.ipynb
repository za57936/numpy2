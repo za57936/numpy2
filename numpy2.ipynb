{
 "cells": [
  {
   "cell_type": "code",
   "execution_count": 4,
   "metadata": {},
   "outputs": [
    {
     "name": "stdout",
     "output_type": "stream",
     "text": [
      "Enter window size: 3\n",
      "Input  [3, 5, 7, 2, 8, 10, 11, 65, 72, 81, 99, 100, 150]\n",
      "y1  5.0\n",
      "y2   5.666666666666667\n",
      "y3    8.333333333333334\n",
      "y4     11.666666666666666\n",
      "y5      15.333333333333334\n",
      "y6       37.0\n",
      "y7        61.0\n",
      "y8         88.0\n",
      "y9          121.0\n",
      "y10           154.33333333333334\n",
      "y11            204.33333333333334\n"
     ]
    }
   ],
   "source": [
    "import numpy as np     #importing numpy library\n",
    "a=[3, 5, 7, 2, 8, 10, 11, 65, 72, 81, 99, 100, 150]      #initializing given vector\n",
    "k=int(input(\"Enter window size: \"))     #taking window size from user\n",
    "avg=[]      #initializing avg list\n",
    "for i in range(1,len(a)-k+2):       #loop to calculate avg and appending it to avg list\n",
    "    sum=0\n",
    "    for j in range(i+k-1):\n",
    "        sum=sum+a[j]\n",
    "    avg.append(sum/k)    \n",
    "print(\"Input \",a)    #printing moving avg array \n",
    "for i in range(0,len(avg)):\n",
    "    print(\"y{}\".format(i+1),end=' ')      \n",
    "    for j in range(0,i+1):      #loop for printing blank spaces\n",
    "        print(' ',end='')\n",
    "    print(avg[i],end='')        #printing avg values\n",
    "    print('')"
   ]
  },
  {
   "cell_type": "code",
   "execution_count": null,
   "metadata": {},
   "outputs": [],
   "source": []
  }
 ],
 "metadata": {
  "kernelspec": {
   "display_name": "Python 3",
   "language": "python",
   "name": "python3"
  },
  "language_info": {
   "codemirror_mode": {
    "name": "ipython",
    "version": 3
   },
   "file_extension": ".py",
   "mimetype": "text/x-python",
   "name": "python",
   "nbconvert_exporter": "python",
   "pygments_lexer": "ipython3",
   "version": "3.7.0"
  }
 },
 "nbformat": 4,
 "nbformat_minor": 2
}
